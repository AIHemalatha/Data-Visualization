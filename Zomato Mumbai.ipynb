{
 "cells": [
  {
   "cell_type": "markdown",
   "id": "4911cee4",
   "metadata": {},
   "source": [
    "1. Importing the libraries"
   ]
  },
  {
   "cell_type": "code",
   "execution_count": null,
   "id": "3084e04d-837e-44d6-8b6b-b95ebc4f17ad",
   "metadata": {},
   "outputs": [],
   "source": [
    "import pandas as pd \n",
    "import numpy as np \n",
    "import matplotlib.pyplot as plt \n",
    "import seaborn as sns \n",
    "import plotly.express as px \n",
    "import plotly.io as pio  \n",
    "pio.renderers.default = \"svg\""
   ]
  },
  {
   "cell_type": "markdown",
   "id": "3910871a",
   "metadata": {},
   "source": [
    "2. Importing the dataset"
   ]
  },
  {
   "cell_type": "code",
   "execution_count": null,
   "id": "85e39d4e",
   "metadata": {},
   "outputs": [],
   "source": [
    "raw_df = pd.read_csv('Zomato_Mumbai_Dataset.csv',delimiter='|') "
   ]
  },
  {
   "cell_type": "code",
   "execution_count": null,
   "id": "2ecea16e",
   "metadata": {},
   "outputs": [],
   "source": [
    "raw_df.head() "
   ]
  },
  {
   "cell_type": "markdown",
   "id": "a3102270",
   "metadata": {},
   "source": [
    "3. Getting Basic Information about the Dataset"
   ]
  },
  {
   "cell_type": "code",
   "execution_count": null,
   "id": "13518ba4",
   "metadata": {},
   "outputs": [],
   "source": [
    "raw_df.shape "
   ]
  },
  {
   "cell_type": "code",
   "execution_count": null,
   "id": "f7f779bd",
   "metadata": {},
   "outputs": [],
   "source": [
    "raw_df.info() "
   ]
  },
  {
   "cell_type": "code",
   "execution_count": null,
   "id": "ecd35b87",
   "metadata": {},
   "outputs": [],
   "source": [
    "raw_df.describe()"
   ]
  },
  {
   "cell_type": "markdown",
   "id": "4a947361",
   "metadata": {},
   "source": [
    "4. Cleaning the Dataset"
   ]
  },
  {
   "cell_type": "markdown",
   "id": "f26a9ec5",
   "metadata": {},
   "source": [
    "a. Removing the redundunt rows of data"
   ]
  },
  {
   "cell_type": "code",
   "execution_count": null,
   "id": "a79aae48",
   "metadata": {},
   "outputs": [],
   "source": [
    "# Checking redundunt rows of data \n",
    " \n",
    "wrong_data = raw_df['PAGE NO'] == 'PAGE NO' \n",
    "raw_df[wrong_data] \n"
   ]
  },
  {
   "cell_type": "code",
   "execution_count": null,
   "id": "bafa13a1",
   "metadata": {},
   "outputs": [],
   "source": [
    "## Performing Negation of the wrong dataset and then storing the correct data back in the raw_df DataFrame \n",
    "## This permamnently remove the wrong data from the original dataframe \n",
    "raw_df = raw_df[~wrong_data] \n",
    "raw_df"
   ]
  },
  {
   "cell_type": "code",
   "execution_count": null,
   "id": "0b13431a",
   "metadata": {},
   "outputs": [],
   "source": [
    "# Dropping columns which are not required for further analysis \n",
    "raw_df.drop(['URL', 'PAGE NO', 'CITY'], axis = 1, inplace=True) \n"
   ]
  },
  {
   "cell_type": "code",
   "execution_count": null,
   "id": "348d419c",
   "metadata": {},
   "outputs": [],
   "source": [
    "raw_df.head() "
   ]
  },
  {
   "cell_type": "markdown",
   "id": "a2b31413",
   "metadata": {},
   "source": [
    "b. Removing the Null Records"
   ]
  },
  {
   "cell_type": "code",
   "execution_count": null,
   "id": "74a3de55",
   "metadata": {},
   "outputs": [],
   "source": [
    "# Checking for Null records \n",
    "raw_df.isnull().sum() \n"
   ]
  },
  {
   "cell_type": "code",
   "execution_count": null,
   "id": "084527b1",
   "metadata": {},
   "outputs": [],
   "source": [
    "# Checking for a null row \n",
    "raw_df[raw_df['PRICE'].isnull()] \n"
   ]
  },
  {
   "cell_type": "code",
   "execution_count": null,
   "id": "c300b4b0",
   "metadata": {},
   "outputs": [],
   "source": [
    "# Droping the above row from the dataset \n",
    "raw_df = raw_df.drop(labels=15080, axis=0) \n"
   ]
  },
  {
   "cell_type": "code",
   "execution_count": null,
   "id": "09142b16",
   "metadata": {},
   "outputs": [],
   "source": [
    "# Replacing the other null records with NA  \n",
    "raw_df.fillna('NA', inplace=True) \n"
   ]
  },
  {
   "cell_type": "code",
   "execution_count": null,
   "id": "3585db18",
   "metadata": {},
   "outputs": [],
   "source": [
    "# Confirming all the null records are correct  \n",
    "raw_df.isnull().sum() \n"
   ]
  },
  {
   "cell_type": "markdown",
   "id": "25114d9f",
   "metadata": {},
   "source": [
    "c. Converting the DataTypes of numerical columns to numeric dataype"
   ]
  },
  {
   "cell_type": "code",
   "execution_count": null,
   "id": "2b2596dc",
   "metadata": {},
   "outputs": [],
   "source": [
    "# Checking for text values in the column before converting it to numeric datatype \n",
    "raw_df['RATING'].value_counts() \n"
   ]
  },
  {
   "cell_type": "code",
   "execution_count": null,
   "id": "2635624e",
   "metadata": {},
   "outputs": [],
   "source": [
    "# Replacing the text values with '0' \n",
    "raw_df['RATING'].replace(to_replace=['-','NEW','Opening'], value='0', inplace=True) \n"
   ]
  },
  {
   "cell_type": "code",
   "execution_count": null,
   "id": "a415450f",
   "metadata": {},
   "outputs": [],
   "source": [
    "# Checking for text values in the column before converting it to numeric datatype \n",
    "raw_df['VOTES'].value_counts() \n"
   ]
  },
  {
   "cell_type": "code",
   "execution_count": null,
   "id": "edefef9b",
   "metadata": {},
   "outputs": [],
   "source": [
    "\n",
    "# Replacing the text values with '0' \n",
    "raw_df['VOTES'].replace(to_replace=['-','NEW','Opening'], value='0', inplace=True) \n"
   ]
  },
  {
   "cell_type": "code",
   "execution_count": null,
   "id": "ac5d75be",
   "metadata": {},
   "outputs": [],
   "source": [
    "\n",
    "# Changing Data Type of the numerical columns \n",
    " \n",
    "raw_df['PRICE'] = raw_df['PRICE'].astype('int64') \n",
    "raw_df['RATING'] = raw_df['RATING'].astype('float64') \n",
    "raw_df['VOTES'] = raw_df['VOTES'].astype('int64') \n"
   ]
  },
  {
   "cell_type": "code",
   "execution_count": null,
   "id": "ac82a11a",
   "metadata": {},
   "outputs": [],
   "source": [
    "raw_df.info() "
   ]
  },
  {
   "cell_type": "markdown",
   "id": "160cc185",
   "metadata": {},
   "source": [
    "d. Working with 'Timing' column"
   ]
  },
  {
   "cell_type": "code",
   "execution_count": null,
   "id": "354d5cc3",
   "metadata": {},
   "outputs": [],
   "source": [
    "raw_df['TIMING'].value_counts() "
   ]
  },
  {
   "cell_type": "code",
   "execution_count": null,
   "id": "cfce1f16",
   "metadata": {},
   "outputs": [],
   "source": [
    "# Splitting the column and storing it in temp_df dataframe  \n",
    " \n",
    "temp_df = raw_df['TIMING'].str.split(\"(\", n = 1, expand = True) \n",
    "temp_df \n"
   ]
  },
  {
   "cell_type": "code",
   "execution_count": null,
   "id": "24aed46f",
   "metadata": {},
   "outputs": [],
   "source": [
    "\n",
    "# Assigning the columns back to the raw_df dataframe \n",
    " \n",
    "raw_df['TIMING'] = temp_df[0] \n",
    "raw_df['DAYS_OPEN'] = temp_df[1] \n",
    "raw_df.head() \n"
   ]
  },
  {
   "cell_type": "code",
   "execution_count": null,
   "id": "a2fbeca4",
   "metadata": {},
   "outputs": [],
   "source": [
    "# Removing the bracket character from Days column \n",
    "raw_df['DAYS_OPEN'] = raw_df['DAYS_OPEN'].str.replace(r\"[)]\",\"\",regex=True) \n",
    "raw_df.head() "
   ]
  },
  {
   "cell_type": "code",
   "execution_count": null,
   "id": "367f0f7c",
   "metadata": {},
   "outputs": [],
   "source": [
    "# Checking for Null records in DAYS_OPEN column \n",
    "raw_df.isnull().sum() \n"
   ]
  },
  {
   "cell_type": "code",
   "execution_count": null,
   "id": "65d6fd17-60e7-4d82-a2ba-bde213158645",
   "metadata": {},
   "outputs": [],
   "source": [
    "# Replacing the Null values with 'NA' \n",
    "raw_df.fillna('NA', inplace=True) \n"
   ]
  },
  {
   "cell_type": "code",
   "execution_count": null,
   "id": "4aac75d7-1212-46a4-a5b5-963550efaf1a",
   "metadata": {},
   "outputs": [],
   "source": [
    "# Checking info of all the columns \n",
    " \n",
    "raw_df.info() "
   ]
  },
  {
   "cell_type": "markdown",
   "id": "ae2ac103-ffa6-4fc4-9d62-7957d6d72113",
   "metadata": {},
   "source": [
    "e. Removing the restaurant records whose Rating or Votes is 0"
   ]
  },
  {
   "cell_type": "code",
   "execution_count": null,
   "id": "a05abad5-9612-4bff-9115-ef7688869b2a",
   "metadata": {},
   "outputs": [],
   "source": [
    "# Finding those restaurant whose has 0 Rating or Votes \n",
    "useless_data = (raw_df['RATING'] == 0.0) | (raw_df['VOTES'] == 0) \n",
    "raw_df[useless_data]"
   ]
  },
  {
   "cell_type": "code",
   "execution_count": null,
   "id": "43b74d5e-5ff5-4e64-a02e-541eb1ca8d92",
   "metadata": {},
   "outputs": [],
   "source": [
    "## Performing Negation of the useless dataset and then storing the correct data back in the raw_df DataFrame \n",
    "## This permamnently remove the wrong data from the original dataframe \n",
    " \n",
    "raw_df = raw_df[~useless_data]"
   ]
  },
  {
   "cell_type": "markdown",
   "id": "c5132273-93eb-4456-a1f9-2269b2d42955",
   "metadata": {},
   "source": [
    "f. Working on 'RATING_TYPE' Column"
   ]
  },
  {
   "cell_type": "code",
   "execution_count": null,
   "id": "21aebf5b-b415-4070-9f10-81c25be19396",
   "metadata": {},
   "outputs": [],
   "source": [
    "# Checking the unique values in the column \n",
    "raw_df['RATING_TYPE'].value_counts() "
   ]
  },
  {
   "cell_type": "code",
   "execution_count": null,
   "id": "2fcb991d-e1fa-41ef-9169-a655f9cbc712",
   "metadata": {},
   "outputs": [],
   "source": [
    "# Translating the texts into proper English text \n",
    " \n",
    "raw_df['RATING_TYPE'].replace(to_replace='Excelente' , value='Excellent', inplace=True) \n",
    "raw_df['RATING_TYPE'].replace(to_replace=['Veľmi dobré','Bardzo dobrze','Muy Bueno','Velmi dobré'] , value='Very Good', inplace=True) \n",
    "raw_df['RATING_TYPE'].replace(to_replace=['Skvělá volba','Dobrze','Bueno','Buono','Dobré','Bom','Skvělé'] , value='Good', inplace=True)  \n",
    "raw_df['RATING_TYPE'].replace(to_replace=['Priemer','Média','Çok iyi'] , value='Average', inplace=True) \n",
    "raw_df['RATING_TYPE'].replace(to_replace=['Průměr','Promedio','Ortalama','Muito Bom','İyi'] , value='Poor', inplace=True) \n",
    "raw_df['RATING_TYPE'].replace(to_replace=['Baik','Biasa','Media','Sangat Baik'] , value='Very Poor', inplace=True) \n"
   ]
  },
  {
   "cell_type": "code",
   "execution_count": null,
   "id": "df6ec96f-7a1e-4f0d-a593-bdd49b78edfa",
   "metadata": {},
   "outputs": [],
   "source": [
    "# Checking all the values correctly mapped \n",
    "raw_df['RATING_TYPE'].value_counts() "
   ]
  },
  {
   "cell_type": "raw",
   "id": "98d6184c-1c4a-4739-84b7-4ad9fc136907",
   "metadata": {},
   "source": [
    "g. Working on 'REGION' Column"
   ]
  },
  {
   "cell_type": "code",
   "execution_count": null,
   "id": "c8a9a611-8557-47a8-8e6f-760661393cb0",
   "metadata": {},
   "outputs": [],
   "source": [
    "raw_df['REGION'].value_counts() "
   ]
  },
  {
   "cell_type": "code",
   "execution_count": null,
   "id": "4d80e414-ffd7-4488-a1c4-487cd1e2c54b",
   "metadata": {},
   "outputs": [],
   "source": [
    "# Removing the irrelevant text from the Region column\n",
    "raw_df['REGION'] = raw_df['REGION'].str.replace('[a-zA-Z].+-- ','',regex=True) "
   ]
  },
  {
   "cell_type": "code",
   "execution_count": null,
   "id": "e586875e-eb37-4d15-9ed4-51e2a42010f0",
   "metadata": {},
   "outputs": [],
   "source": [
    "# Removing the West & East from the Region column \n",
    "raw_df['REGION'] = raw_df['REGION'].str.replace(' West| west| East| east','',regex=True) "
   ]
  },
  {
   "cell_type": "code",
   "execution_count": null,
   "id": "92b6df79-828e-442f-95c1-581814ff41ad",
   "metadata": {},
   "outputs": [],
   "source": [
    "raw_df['REGION'].value_counts() "
   ]
  },
  {
   "cell_type": "code",
   "execution_count": null,
   "id": "401e4e0b-76cd-4b3b-827b-66001ba0ddd4",
   "metadata": {},
   "outputs": [],
   "source": [
    "# Replacing Small regions with Known region name \n",
    " \n",
    "raw_df['REGION'] = raw_df['REGION'].str.replace('4 Bungalows|7 Andheri|Azad Nagar|Near Andheri Station|Veera Desai Area','Andheri' ,regex=True) \n",
    "raw_df['REGION'] = raw_df['REGION'].str.replace('Bandra Kurla Complex','Bandra',regex=True) \n",
    "raw_df['REGION'] = raw_df['REGION'].str.replace('CBD-Belapur','CBD Belapur',regex=True) \n",
    "raw_df['REGION'] = raw_df['REGION'].str.replace('Girgaon Chowpatty','Chowpatty',regex=True) \n",
    "raw_df['REGION'] = raw_df['REGION'].str.replace('Dadar Shivaji Park','Dadar',regex=True)\n",
    "raw_df['REGION'] = raw_df['REGION'].str.replace('Flea Bazaar Café|Kamala Mills Compound','Lower Parel',regex=True) \n",
    "raw_df['REGION'] = raw_df['REGION'].str.replace('Runwal Green','Mulund',regex=True) \n",
    "raw_df['REGION'] = raw_df['REGION'].str.replace('Mumbai CST Area','Mumbai Central',regex=True) \n",
    "raw_df['REGION'] = raw_df['REGION'].str.replace('Kopar Khairane|Seawoods|Turbhe|Ulwe','Navi Mumbai',regex=True) \n",
    "raw_df['REGION'] = raw_df['REGION'].str.replace('New Panvel|Old Panvel','Panvel',regex=True) \n",
    "raw_df['REGION'] = raw_df['REGION'].str.replace('Kamothe','Sion',regex=True) \n",
    "raw_df['REGION'] = raw_df['REGION'].str.replace('Ghodbunder Road|Majiwada','Thane',regex=True) "
   ]
  },
  {
   "cell_type": "markdown",
   "id": "2ba7de43-7e3c-4db4-a52f-fe94972a76c7",
   "metadata": {},
   "source": [
    "h. Removing Duplicate records"
   ]
  },
  {
   "cell_type": "code",
   "execution_count": null,
   "id": "a4e77290-cd5e-4306-b9a4-ce7988df8e12",
   "metadata": {},
   "outputs": [],
   "source": [
    "# Finding all the duplicate rows \n",
    "raw_df[raw_df.duplicated()] "
   ]
  },
  {
   "cell_type": "code",
   "execution_count": null,
   "id": "202ff5d9-67b0-4747-b93c-b44452849c36",
   "metadata": {},
   "outputs": [],
   "source": [
    "# Dropping all the duplicate rows \n",
    "raw_df = raw_df.drop_duplicates() "
   ]
  },
  {
   "cell_type": "markdown",
   "id": "35e7514a-cf37-4454-8a1d-3f0dd8363c17",
   "metadata": {},
   "source": [
    "4. Copying the cleaned data into a new DataFrame"
   ]
  },
  {
   "cell_type": "code",
   "execution_count": null,
   "id": "6a482556-7525-48a5-a706-58eab43c9f88",
   "metadata": {},
   "outputs": [],
   "source": [
    "zomato_df = raw_df.copy()"
   ]
  },
  {
   "cell_type": "code",
   "execution_count": null,
   "id": "737c510f-3b30-4ae4-82ad-bceebcdd1712",
   "metadata": {},
   "outputs": [],
   "source": [
    "zomato_df.head()"
   ]
  },
  {
   "cell_type": "markdown",
   "id": "7b8121c4-7ec7-423f-a724-f4f05a76d0ca",
   "metadata": {},
   "source": [
    "5. Performing Exploratory Data Analysis"
   ]
  },
  {
   "cell_type": "markdown",
   "id": "2c81bd2a-2b65-4010-b1ac-600547289851",
   "metadata": {},
   "source": [
    "Q1) How many restaurants are in Mumbai for each type of cuisine?"
   ]
  },
  {
   "cell_type": "code",
   "execution_count": null,
   "id": "6ae00a33-04dc-476b-a114-ca28ccb1927d",
   "metadata": {},
   "outputs": [],
   "source": [
    "fig = px.histogram(zomato_df, x='CUSINE TYPE', color='CUSINE TYPE',title= 'No. of Restaurants by Cuisine Type',labels={'CUSINE TYPE':'Cuisine Type'})  "
   ]
  },
  {
   "cell_type": "code",
   "execution_count": null,
   "id": "ded86477-7abd-403b-b3bc-5e6d2fcad228",
   "metadata": {},
   "outputs": [],
   "source": [
    "fig.show()"
   ]
  },
  {
   "cell_type": "markdown",
   "id": "290c3634-1c81-4895-bca7-0c36221fa6ee",
   "metadata": {},
   "source": [
    "Q2) What are the percentage of restaurants by Rating Type in Mumbai?"
   ]
  },
  {
   "cell_type": "code",
   "execution_count": null,
   "id": "f35ae5aa-d401-4eb8-8565-94b794c24a05",
   "metadata": {},
   "outputs": [],
   "source": [
    "rating_type_df = zomato_df['RATING_TYPE'].value_counts().reset_index() \n",
    "rating_type_df.rename(columns={'index':'RATING TYPE', 'RATING_TYPE':'COUNT OF RESTAURANTS'}, inplace=True) \n",
    "rating_type_df "
   ]
  },
  {
   "cell_type": "code",
   "execution_count": null,
   "id": "6849e946-80d5-431c-97cc-13dc79e44602",
   "metadata": {},
   "outputs": [],
   "source": [
    "fig = px.pie(rating_type_df, names='RATING TYPE', values='COUNT OF RESTAURANTS', color='RATING TYPE',  \n",
    "       title='Percentage of Restaurants by Rating Type').update_traces(textposition='inside', textinfo='percent+label')\n",
    "fig.show() "
   ]
  },
  {
   "cell_type": "markdown",
   "id": "e5824f47-4904-448d-a2fb-1d6e39a47c55",
   "metadata": {},
   "source": [
    "Q3) Which are the Top 10 highest rated Seafood Restaurant in Mumbai?"
   ]
  },
  {
   "cell_type": "code",
   "execution_count": null,
   "id": "b99f73c0-9bfd-4260-924a-470787674c1f",
   "metadata": {},
   "outputs": [],
   "source": [
    "seafood_df = zomato_df[zomato_df['CUSINE_CATEGORY'].str.contains('Seafood')] \n",
    "seafood_df.sort_values(by='RATING',ascending=False).head(10) "
   ]
  },
  {
   "cell_type": "markdown",
   "id": "05dab62e-465d-460d-b711-b43e21951e4c",
   "metadata": {},
   "source": [
    "Q4) Which is the best Food Truck in Mumbai?"
   ]
  },
  {
   "cell_type": "code",
   "execution_count": null,
   "id": "ac725c21-3fc3-40b4-8a68-fd6880fecd3e",
   "metadata": {},
   "outputs": [],
   "source": [
    "foodtruck_df = zomato_df[zomato_df['CUSINE TYPE'] == 'Food Truck'] \n",
    "foodtruck_df.sort_values(by='RATING',ascending=False).head(2)"
   ]
  },
  {
   "cell_type": "markdown",
   "id": "777986ad-3d9f-4b2b-89bb-05ef16677de3",
   "metadata": {},
   "source": [
    "Q5) Which places have the highest rated restaurant for each Cuisine Type in Mumbai?"
   ]
  },
  {
   "cell_type": "code",
   "execution_count": null,
   "id": "dfb457c3-0b38-482f-b46f-bc99f139cb36",
   "metadata": {},
   "outputs": [],
   "source": [
    "# Assuming restaurants having rating above 4.5 \n",
    " \n",
    "highest_rated_df = zomato_df[zomato_df['RATING'] >= 4.5] highest_rated_df "
   ]
  },
  {
   "cell_type": "code",
   "execution_count": null,
   "id": "5cb7a104-251e-4dc1-9669-212d04962c7f",
   "metadata": {},
   "outputs": [],
   "source": [
    "fig = px.histogram(highest_rated_df, x='REGION', color='CUSINE TYPE',  \n",
    "             title= 'No. of Best Restaurant for each Cuisine Type by Places').update_xaxes(categoryorder=\"total descend\n",
    "fig.show() "
   ]
  },
  {
   "cell_type": "markdown",
   "id": "bea08195-6290-4797-8cbd-3cfbcad23dcf",
   "metadata": {},
   "source": [
    "Q6) What is the Avg Price Distibution of highest rated restaurant for each Cuisine Type in Mumbai?"
   ]
  },
  {
   "cell_type": "code",
   "execution_count": null,
   "id": "b893a53d-79d4-477d-8a8d-1c8ef272c624",
   "metadata": {},
   "outputs": [],
   "source": [
    "highest_rated_price_df = highest_rated_df.groupby(by=['REGION', 'CUSINE TYPE'])['PRICE'].mean().reset_index() \n",
    "highest_rated_price_df.head() "
   ]
  },
  {
   "cell_type": "code",
   "execution_count": null,
   "id": "3689a78c-b542-45a7-a2e9-fc5ca5f4745b",
   "metadata": {},
   "outputs": [],
   "source": [
    "fig = px.scatter(highest_rated_price_df, x=\"REGION\", y=\"PRICE\", color=\"CUSINE TYPE\", symbol=\"CUSINE TYPE\",  \n",
    "           title=' Avg Price Distibution of High rated restaurant for each Cuisine Type').update_traces(marker_size=10)\n",
    "fig.show() "
   ]
  },
  {
   "cell_type": "markdown",
   "id": "f40096c1-a67e-4fc7-a3fe-7c08fe2d527f",
   "metadata": {},
   "source": [
    "Q7) Which areas have a large number of Chinese Restaurant Market?"
   ]
  },
  {
   "cell_type": "code",
   "execution_count": null,
   "id": "191a4bf7-e040-41de-b7f0-2c0ee131a6fd",
   "metadata": {},
   "outputs": [],
   "source": [
    "chinese_df = zomato_df[zomato_df['CUSINE_CATEGORY'].str.contains('Chinese')] \n",
    "chinese_df "
   ]
  },
  {
   "cell_type": "code",
   "execution_count": null,
   "id": "03ff753f-e336-46b1-af3e-13da45d034da",
   "metadata": {},
   "outputs": [],
   "source": [
    "chinese_rest_df = chinese_df.groupby(by='REGION').agg({'NAME' : 'count', 'PRICE' : 'mean'}).rename(columns= {'NAME' : 'Restaurant Count','PRICE': 'Average Price'}).reset_index() \n",
    "chinese_rest_df = chinese_rest_df.sort_values('COUNT OF RESTAURANTS', ascending=False).head(25) \n",
    "chinese_rest_df.head() "
   ]
  },
  {
   "cell_type": "code",
   "execution_count": null,
   "id": "403d3b09-def2-4458-9aba-ac0cf581783d",
   "metadata": {},
   "outputs": [],
   "source": [
    "fig = px.bar(chinese_rest_df, x='REGION', y='COUNT OF RESTAURANTS', color='PRICE', title= 'No. of Chinese Restaurant by Places',\n",
    "labels={'Restaurant Count': 'Count of Restaurants','Average Price': 'Price','REGION': 'Region'})\n",
    "fig.show() "
   ]
  },
  {
   "cell_type": "markdown",
   "id": "5a9db043-e475-4a97-9460-1a22ece508e3",
   "metadata": {},
   "source": [
    "Q8) Is there a relation between Price and Rating by each Cuisine Type?"
   ]
  },
  {
   "cell_type": "code",
   "execution_count": null,
   "id": "9004d9c8-3573-43d1-a5bd-f37f70238bed",
   "metadata": {},
   "outputs": [],
   "source": [
    "price_rating_df = zomato_df.groupby(['CUSINE TYPE', 'RATING'])['PRICE'].mean().reset_index() \n",
    "price_rating_df "
   ]
  },
  {
   "cell_type": "code",
   "execution_count": null,
   "id": "71d723a4-058c-4cb2-8d52-f3f2a0d0681e",
   "metadata": {},
   "outputs": [],
   "source": [
    "fig = px.line(price_rating_df, y=\"PRICE\", x=\"RATING\",color='CUSINE TYPE') \n",
    "fig.show() "
   ]
  },
  {
   "cell_type": "markdown",
   "id": "78d7ae74-cf86-4deb-933c-138c7416787a",
   "metadata": {},
   "source": [
    "Q9) Is there a relation between Region and Price?"
   ]
  },
  {
   "cell_type": "code",
   "execution_count": null,
   "id": "561b65df-6cc8-448d-ba3c-b132f3713c92",
   "metadata": {},
   "outputs": [],
   "source": [
    "region_price_df = zomato_df.groupby(['REGION'])['PRICE'].mean().reset_index() \n",
    "region_price_df "
   ]
  },
  {
   "cell_type": "code",
   "execution_count": null,
   "id": "9666fba4-f2e6-4de0-9181-5473be02a8e3",
   "metadata": {},
   "outputs": [],
   "source": [
    "fig = px.scatter(region_price_df, x=\"REGION\", y=\"PRICE\").update_traces(marker_size=8) \n",
    "fig.show() "
   ]
  },
  {
   "cell_type": "markdown",
   "id": "74eb6950-50ae-49f5-a389-15cffb07941e",
   "metadata": {},
   "source": [
    "Q10) Find the list of Affordable Restaurants?"
   ]
  },
  {
   "cell_type": "markdown",
   "id": "38c68c70-2c9d-4190-aca7-5eabeafaecba",
   "metadata": {},
   "source": [
    "The criteria for Affordable Restaurants would be: \\n\n",
    "1) Low Price 2) High Rated \\n \n",
    "First step will be to find the restaurants with average cost 1/4th the average cost of most expensive restaurant in our dataframe. \\n\n",
    "Let me explain:-The most expensive restaurant has an average meal cost= 6000. We'll try to stay economical and only pick the restaurants that are 1/4th of 6000.\n"
   ]
  },
  {
   "cell_type": "code",
   "execution_count": null,
   "id": "d5be0bc5-e622-498c-9a45-173608e7daf1",
   "metadata": {},
   "outputs": [],
   "source": [
    "max_price = zomato_df['PRICE'].max() \n",
    "one_fourth_price = max_price/4 \n",
    "one_fourth_price "
   ]
  },
  {
   "cell_type": "code",
   "execution_count": null,
   "id": "0dd3a248-2c54-4613-b43a-0d6110d5ef14",
   "metadata": {},
   "outputs": [],
   "source": [
    "# Finding list of restaurants that have price less than and equal to 1/4th of the max price i.e Finding Cheap Restauran\n",
    " \n",
    "aff_rest_df = zomato_df[['NAME', 'PRICE', 'CUSINE_CATEGORY', 'REGION', 'CUSINE TYPE']] \n",
    "aff_rest_df = aff_rest_df[aff_rest_df['PRICE'] <= 1250] \n",
    "aff_rest_df.sort_values(by='PRICE', inplace=True) aff_rest_df "
   ]
  },
  {
   "cell_type": "code",
   "execution_count": null,
   "id": "da638944-5768-496f-a8ea-0715ff79680e",
   "metadata": {},
   "outputs": [],
   "source": [
    "# Finding the highest rated list of restaurants \n",
    " \n",
    "highrate_rest_df = zomato_df[['NAME', 'PRICE', 'CUSINE_CATEGORY', 'REGION', 'CUSINE TYPE','RATING']] \n",
    "highrate_rest_df = highrate_rest_df[highrate_rest_df['RATING'] >= 4.5] \n",
    "highrate_rest_df.sort_values(by='PRICE', inplace=True) highrate_rest_df "
   ]
  },
  {
   "cell_type": "markdown",
   "id": "649714b3-fcf3-4944-b81e-89b92c247fe1",
   "metadata": {},
   "source": [
    "Now, we'll merge the aff_rest_df with highrate_rest_df to obtain the intersection i.e the list of Affordable Restaurants !!"
   ]
  },
  {
   "cell_type": "code",
   "execution_count": null,
   "id": "c31cce1f-e618-458a-a53d-96891ad47b14",
   "metadata": {},
   "outputs": [],
   "source": [
    "highrate_aff_df = pd.merge(aff_rest_df, highrate_rest_df, how='inner', on=['NAME', 'REGION']) \n",
    "highrate_aff_df = highrate_aff_df[['NAME', 'PRICE_x', 'CUSINE_CATEGORY_x', 'REGION', 'CUSINE TYPE_x']] \n",
    "highrate_aff_df.rename(columns={'NAME':'NAME', 'PRICE_x':'PRICE', 'CUSINE_CATEGORY_x':'CUSINE_CATEGORY','REGION':'REGION', 'CUSINE TYPE_x':'CUSINE TYPE'},inplace=True)"
   ]
  },
  {
   "cell_type": "code",
   "execution_count": null,
   "id": "2d63960a-6ec7-44cd-9f96-618451dd71b7",
   "metadata": {},
   "outputs": [],
   "source": [
    "# Affordable Restaurants with low price and high rating  \n",
    " highrate_aff_df "
   ]
  },
  {
   "cell_type": "markdown",
   "id": "02bd9221-b4f4-47f2-aa33-ccd23aad1ed8",
   "metadata": {},
   "source": [
    "Q10) Find the list of most Reliable Restaurants?"
   ]
  },
  {
   "cell_type": "markdown",
   "id": "e90c4c7c-7451-4d99-aafa-3902dfa662ff",
   "metadata": {},
   "source": [
    "The criteria for most Reliable Restaurants would be:- \\n\n",
    "1) Low Price 2) High Rated 3) Large No. of Votes \\n \n",
    "First step will be to find the restaurants with Votes greater than Mean of Votes\n"
   ]
  },
  {
   "cell_type": "code",
   "execution_count": null,
   "id": "64539cfb-8129-4204-a4c2-631cdce49093",
   "metadata": {},
   "outputs": [],
   "source": [
    "mean_votes = zomato_df['VOTES'].mean() \n",
    "mean_votes "
   ]
  },
  {
   "cell_type": "code",
   "execution_count": null,
   "id": "1a04b360-4283-46aa-bcbe-e4a39d8fb9ce",
   "metadata": {},
   "outputs": [],
   "source": [
    "# Finding list of restaurants that have Votes greater than and equal to  Mean of Vote \n",
    " \n",
    "mean_rest_df = zomato_df[['NAME', 'PRICE', 'CUSINE_CATEGORY', 'REGION', 'CUSINE TYPE', 'VOTES']] \n",
    "mean_rest_df = mean_rest_df[mean_rest_df['VOTES'] > 177] \n",
    "mean_rest_df.sort_values(by='VOTES', inplace=True) \n",
    "mean_rest_df "
   ]
  },
  {
   "cell_type": "markdown",
   "id": "cf542788-c744-4bf4-92e2-20de4a2a995d",
   "metadata": {},
   "source": [
    "These are the most reliable, highest rated and affordable restaurants:-"
   ]
  },
  {
   "cell_type": "markdown",
   "id": "3cde7583-0b1a-4b62-bacc-d417d4a6f9f7",
   "metadata": {},
   "source": [
    "We obtain this dataframe by simply taking the intersection of highrate_aff_df & mean_rest_df This dataframe obtained below shows the restaurants whose:\n",
    "Cost is below 1250\n",
    "Rating is above 4.5\n",
    "Votes are above 177\n"
   ]
  },
  {
   "cell_type": "code",
   "execution_count": null,
   "id": "ddbf864a-0ddb-4534-9a31-786e73c9d794",
   "metadata": {},
   "outputs": [],
   "source": [
    "reliable_rest_df = pd.merge(mean_rest_df, highrate_aff_df, how='inner', on=['NAME', 'REGION']) \n",
    "reliable_rest_df = reliable_rest_df[['NAME', 'PRICE_x', 'CUSINE_CATEGORY_x', 'REGION', 'CUSINE TYPE_x']] \n",
    "reliable_rest_df.rename(columns={'NAME':'NAME', 'PRICE_x':'PRICE', 'CUSINE_CATEGORY_x':'CUSINE_CATEGORY','REGION':'REGION', 'CUSINE TYPE_x':'CUSINE TYPE'},inplace=True) "
   ]
  },
  {
   "cell_type": "code",
   "execution_count": null,
   "id": "9d637481-1afa-479f-bd96-c3d8b7595675",
   "metadata": {},
   "outputs": [],
   "source": [
    "reliable_rest_df "
   ]
  }
 ],
 "metadata": {
  "kernelspec": {
   "display_name": "Python 3 (ipykernel)",
   "language": "python",
   "name": "python3"
  },
  "language_info": {
   "codemirror_mode": {
    "name": "ipython",
    "version": 3
   },
   "file_extension": ".py",
   "mimetype": "text/x-python",
   "name": "python",
   "nbconvert_exporter": "python",
   "pygments_lexer": "ipython3",
   "version": "3.11.5"
  }
 },
 "nbformat": 4,
 "nbformat_minor": 5
}
